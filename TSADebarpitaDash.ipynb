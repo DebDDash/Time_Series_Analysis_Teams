{
  "nbformat": 4,
  "nbformat_minor": 0,
  "metadata": {
    "colab": {
      "provenance": []
    },
    "kernelspec": {
      "name": "python3",
      "display_name": "Python 3"
    },
    "language_info": {
      "name": "python"
    }
  },
  "cells": [
    {
      "cell_type": "code",
      "execution_count": 4,
      "metadata": {
        "id": "9OQanyuWsriM"
      },
      "outputs": [],
      "source": [
        "import pandas as pd\n",
        "import matplotlib.pyplot as plt"
      ]
    },
    {
      "cell_type": "code",
      "source": [
        "#@title Load the Dataset\n",
        "url = \"https://raw.githubusercontent.com/FuTSA23/time-series-analysis-datasets/da059e9f430e1337f7b437609ad2488480465882/Complete_Blasting_info%20(1).csv\"\n",
        "df = pd.read_csv(url)\n",
        "df.head()"
      ],
      "metadata": {
        "cellView": "form",
        "id": "a66RyCilsyit"
      },
      "execution_count": null,
      "outputs": []
    },
    {
      "cell_type": "code",
      "source": [
        "#@title Question 1:How can you plot the time-series?\n",
        "df['Time'] = pd.to_datetime(df['Time'])\n",
        "plt.figure(figsize=(50, 20))\n",
        "plt.plot(df['Time'], df['PM10 (µg/m3)'], label='PM10')\n",
        "plt.xlabel('Time')\n",
        "plt.ylabel('PM10')\n",
        "plt.title('Time-Series of PM10 Data')\n",
        "plt.legend()\n",
        "plt.grid(True)\n",
        "plt.show()"
      ],
      "metadata": {
        "cellView": "form",
        "id": "hDYqTlPcs1Xr"
      },
      "execution_count": null,
      "outputs": []
    },
    {
      "cell_type": "markdown",
      "source": [],
      "metadata": {
        "id": "HwgRXyxh21Ef"
      }
    },
    {
      "cell_type": "code",
      "source": [
        "#@title Question 1:Removing NA Values\n",
        "\n",
        "import pandas as pd\n",
        "import matplotlib.pyplot as plt\n",
        "\n",
        "# Load the dataset from the provided CSV file\n",
        "url = \"https://raw.githubusercontent.com/FuTSA23/time-series-analysis-datasets/da059e9f430e1337f7b437609ad2488480465882/Complete_Blasting_info%20(1).csv\"\n",
        "df = pd.read_csv(url)\n",
        "\n",
        "# Convert the 'Unnamed: 0' column to datetime format\n",
        "df['Unnamed: 0'] = pd.to_datetime(df['Unnamed: 0'])\n",
        "\n",
        "# Set the 'Unnamed: 0' column as the index for easy interpolation\n",
        "df.set_index('Unnamed: 0', inplace=True)\n",
        "\n",
        "# Interpolate the missing values using linear interpolation with limit_direction='forward'\n",
        "df_interpolated = df.interpolate(method='linear', limit_direction='forward')\n",
        "\n",
        "# Plot the original and interpolated time-series for PM10 data\n",
        "plt.figure(figsize=(50, 20))\n",
        "plt.plot(df.index, df['PM10 (µg/m3)'], marker='o', markersize=3, linestyle='-', label='Original PM10')\n",
        "plt.plot(df_interpolated.index, df_interpolated['PM10 (µg/m3)'], marker='x', markersize=3, linestyle='-', label='Interpolated PM10')\n",
        "plt.xlabel('Time')\n",
        "plt.ylabel('PM10 (µg/m3)')\n",
        "plt.title('Time-Series of PM10 Data with Interpolation')\n",
        "plt.legend()\n",
        "plt.grid(True)\n",
        "plt.show()\n"
      ],
      "metadata": {
        "cellView": "form",
        "id": "7W-zSksuuWTk"
      },
      "execution_count": null,
      "outputs": []
    },
    {
      "cell_type": "code",
      "source": [
        "#@title Question 1: Multi-variate Time Series\n",
        "\n",
        "plt.figure(figsize=(12, 6))\n",
        "\n",
        "# Plot PM10 data\n",
        "plt.subplot(2, 1, 1)\n",
        "plt.plot(df['Date'], df['PM10 (µg/m3)'], marker='o', markersize=3, linestyle='-', label='PM10')\n",
        "plt.xlabel('Date')\n",
        "plt.ylabel('PM10 (µg/m3)')\n",
        "plt.title('Time-Series of PM10 Data')\n",
        "plt.legend()\n",
        "plt.grid(True)\n",
        "\n",
        "# Plot PM2.5 data\n",
        "plt.subplot(2, 1, 2)\n",
        "plt.plot(df['Date'], df['PM2.5 (µg/m3)'], marker='x', markersize=3, linestyle='-', label='PM2.5')\n",
        "plt.xlabel('Date')\n",
        "plt.ylabel('PM2.5 (µg/m3)')\n",
        "plt.title('Time-Series of PM2.5 Data')\n",
        "plt.legend()\n",
        "plt.grid(True)\n",
        "\n",
        "plt.tight_layout()\n",
        "plt.show()\n"
      ],
      "metadata": {
        "cellView": "form",
        "id": "-UEslcXQ4HPU"
      },
      "execution_count": null,
      "outputs": []
    },
    {
      "cell_type": "code",
      "source": [
        "#@title Question 1: Individual time-series for different air polluting factors\n",
        "\n",
        "# Plot individual time-series for PM10, PM2.5, and NO2 on the same graph\n",
        "plt.figure(figsize=(12, 6))\n",
        "\n",
        "# Plot PM10 data\n",
        "plt.plot(df['Date'], df['PM10 (µg/m3)'], marker='o', markersize=3, linestyle='-', label='PM10')\n",
        "\n",
        "# Plot PM2.5 data\n",
        "plt.plot(df['Date'], df['PM2.5 (µg/m3)'], marker='x', markersize=3, linestyle='-', label='PM2.5')\n",
        "\n",
        "# Plot NO2 data\n",
        "plt.plot(df['Date'], df['NO2 (µg/m3)'], marker='s', markersize=3, linestyle='-', label='NO2')\n",
        "\n",
        "plt.xlabel('Date')\n",
        "plt.ylabel('Concentration (µg/m3)')\n",
        "plt.title('Time-Series of Air Pollutants')\n",
        "plt.legend()\n",
        "plt.grid(True)\n",
        "plt.show()\n"
      ],
      "metadata": {
        "cellView": "form",
        "id": "wxfmjNHM5YSX"
      },
      "execution_count": null,
      "outputs": []
    },
    {
      "cell_type": "code",
      "source": [
        "#@title Question 1:ARMA /ARIMA PROCESSES\n",
        "\n",
        "from statsmodels.tsa.arima.model import ARIMA\n",
        "\n",
        "# Handling missing data using linear interpolation (optional)\n",
        "df.interpolate(method='linear', inplace=True)\n",
        "\n",
        "# Select the 'PM10 (µg/m3)' column for ARIMA analysis\n",
        "pm10_data = df['PM10 (µg/m3)']\n",
        "\n",
        "# Assuming ARIMA(1,1,1) model (you can adjust these orders based on ACF and PACF plots)\n",
        "model = ARIMA(pm10_data, order=(1, 1, 1))\n",
        "results = model.fit()\n",
        "\n",
        "# Make predictions using the fitted model\n",
        "forecast_start_date = pd.to_datetime('2023-02-01')\n",
        "forecast_end_date = pd.to_datetime('2023-05-01')\n",
        "forecast_index = pd.date_range(start=forecast_start_date, end=forecast_end_date, freq='D')\n",
        "forecast_days = len(forecast_index)\n",
        "forecast = results.predict(start=len(pm10_data), end=len(pm10_data) + forecast_days - 1, typ='levels')\n",
        "\n",
        "# Plot the original and predicted time-series for 'PM10 (µg/m3)' column\n",
        "plt.figure(figsize=(12, 6))\n",
        "plt.plot(pm10_data.index, pm10_data, marker='o', markersize=3, linestyle='-', label='Original PM10')\n",
        "plt.plot(forecast_index, forecast, marker='x', markersize=3, linestyle='-', label='ARIMA Forecasted PM10')\n",
        "plt.xlabel('Date')\n",
        "plt.ylabel('PM10 (µg/m3)')\n",
        "plt.title('ARIMA Model Forecast for PM10 Data')\n",
        "plt.legend()\n",
        "plt.grid(True)\n",
        "plt.xlim(forecast_start_date, forecast_end_date)\n",
        "plt.show()\n"
      ],
      "metadata": {
        "cellView": "form",
        "id": "LmxR2-EF6EOT"
      },
      "execution_count": null,
      "outputs": []
    },
    {
      "cell_type": "code",
      "source": [
        "#@title Question 1: Linear Interpolation\n",
        "\n",
        "# Handling missing data using linear interpolation\n",
        "df.interpolate(method='linear', inplace=True)\n",
        "\n",
        "# Plot the original and interpolated time-series for 'PM10 (µg/m3)' column\n",
        "plt.figure(figsize=(12, 6))\n",
        "plt.plot(df.index, df['PM10 (µg/m3)'], marker='o', markersize=3, linestyle='-', label='Original PM10')\n",
        "plt.plot(df.index, df['PM10 (µg/m3)'], marker='x', markersize=3, linestyle='-', label='Interpolated PM10')\n",
        "plt.xlabel('Date')\n",
        "plt.ylabel('PM10 (µg/m3)')\n",
        "plt.title('Linear Interpolation for PM10 Data')\n",
        "plt.legend()\n",
        "plt.grid(True)\n",
        "\n",
        "plt.show()"
      ],
      "metadata": {
        "cellView": "form",
        "id": "XS-SiQVA4cIz"
      },
      "execution_count": null,
      "outputs": []
    },
    {
      "cell_type": "code",
      "source": [
        "#@title Question 1: Cubic spline Interpolation\n",
        "\n",
        "from scipy.interpolate import CubicSpline, interp1d\n",
        "\n",
        "df.interpolate(method='linear', inplace=True)\n",
        "\n",
        "# Apply cubic spline interpolation on the 'PM10 (µg/m3)' column\n",
        "x = np.arange(len(df))  # Use index as x values\n",
        "y = df['PM10 (µg/m3)'].values\n",
        "cs = CubicSpline(x, y)\n",
        "\n",
        "# Generate new x values for interpolation\n",
        "xs = np.linspace(0, len(df) - 1, 100)\n",
        "ys = cs(xs)\n",
        "\n",
        "# Plot the original and cubic spline interpolated time-series for 'PM10 (µg/m3)' column\n",
        "plt.plot(df.index, df['PM10 (µg/m3)'], 'o', label='data')\n",
        "plt.plot(df.index, df['PM10 (µg/m3)'], label='Original PM10')\n",
        "plt.plot(pd.to_datetime(df.index.min()) + pd.to_timedelta(xs, unit='D'), ys, label=\"Cubic Spline Interpolation\", color='green')\n",
        "plt.xlabel('Date')\n",
        "plt.ylabel('PM10 (µg/m3)')\n",
        "plt.title('Cubic Spline Interpolation for PM10 Data')\n",
        "plt.legend()\n",
        "plt.grid(True)\n",
        "plt.show()\n"
      ],
      "metadata": {
        "cellView": "form",
        "id": "WGvCayl0CReb"
      },
      "execution_count": null,
      "outputs": []
    },
    {
      "cell_type": "code",
      "source": [
        "#@title Question 2: Blasting Time\n",
        "\n",
        "blasting_data = df.between_time('13:45', '14:45').copy()  # Make a copy to avoid modifying the original DataFrame\n",
        "\n",
        "# Combine the air polluting factors using a weighted combination to create a single time-series data for the blasting effect\n",
        "# Let's assume that we use equal weights for all air polluting factors for simplicity\n",
        "blasting_data['Blasting Effect'] = blasting_data['PM10 (µg/m3)'] + blasting_data['NO2 (µg/m3)']\n",
        "\n",
        "# Display the data for the specific time range and the combined time-series data for the blasting effect\n",
        "plt.figure(figsize=(12, 6))\n",
        "plt.plot(blasting_data.index, blasting_data['Blasting Effect'], marker='.', linestyle='-', color='orange')\n",
        "plt.xlabel('Time')\n",
        "plt.ylabel('Blasting Effect')\n",
        "plt.title('Time-Series of Blasting Effect')\n",
        "plt.grid(True)\n",
        "plt.show()\n"
      ],
      "metadata": {
        "cellView": "form",
        "id": "2lvnvJQd0CGp"
      },
      "execution_count": null,
      "outputs": []
    },
    {
      "cell_type": "code",
      "source": [
        "#@title Question 2: Histogram of Blast Trigger Times\n",
        "\n",
        "# Extract the 'Minute' from the 'Time' column to get the minute of each data point\n",
        "blasting_data['Minute'] = blasting_data.index.minute\n",
        "\n",
        "# Plot the histogram of blast trigger times in minutes\n",
        "plt.figure(figsize=(10, 6))\n",
        "plt.hist(blasting_data['Minute'], bins=60, alpha=0.7, color='blue')\n",
        "plt.xlabel('Minute of the Hour')\n",
        "plt.ylabel('Frequency')\n",
        "plt.title('Histogram of Blast Trigger Times (in Minutes)')\n",
        "plt.xticks(range(0, 60, 5))  # Show x-axis ticks every 5 minutes for better readability\n",
        "plt.grid(True)\n",
        "plt.show()\n",
        "\n"
      ],
      "metadata": {
        "cellView": "form",
        "id": "CCQue_yt24eF"
      },
      "execution_count": null,
      "outputs": []
    },
    {
      "cell_type": "code",
      "source": [
        "#@title Question 2: Histogram of the detected blasting times across all months of data.\n",
        "blasting_data['Hour'] = blasting_data.index.hour\n",
        "blasting_data['Minute'] = blasting_data.index.minute\n",
        "\n",
        "# Combine 'Hour' and 'Minute' to get the blasting times in hours and minutes\n",
        "blasting_data['Blasting Time'] = blasting_data['Hour'] + blasting_data['Minute'] / 60\n",
        "\n",
        "# Plot the histogram of the detected blasting times\n",
        "plt.figure(figsize=(10, 6))\n",
        "plt.hist(blasting_data['Blasting Time'], bins=24, alpha=0.7, color='green')\n",
        "plt.xlabel('Blasting Time (hours)')\n",
        "plt.ylabel('Frequency')\n",
        "plt.title('Histogram of Detected Blasting Times')\n",
        "plt.grid(True)\n",
        "plt.show()\n"
      ],
      "metadata": {
        "cellView": "form",
        "id": "hGjwnCed3mO8"
      },
      "execution_count": null,
      "outputs": []
    },
    {
      "cell_type": "code",
      "source": [
        "#@title Question 2: Probability of Blast Happening during 14:15 to 14:30\n",
        "\n",
        "import scipy.stats as stats\n",
        "\n",
        "# Analyze the histogram\n",
        "plt.figure(figsize=(10, 6))\n",
        "plt.hist(blasting_data['Blasting Time'], bins=24, alpha=0.7, color='green')\n",
        "plt.xlabel('Blasting Time (hours)')\n",
        "plt.ylabel('Frequency')\n",
        "plt.title('Histogram of Detected Blasting Times')\n",
        "plt.grid(True)\n",
        "plt.show()\n",
        "\n",
        "# QQ plot\n",
        "plt.figure(figsize=(8, 8))\n",
        "stats.probplot(blasting_data['Blasting Time'], dist='norm', plot=plt)\n",
        "plt.xlabel('Theoretical Quantiles')\n",
        "plt.ylabel('Sample Quantiles')\n",
        "plt.title('QQ Plot of Blasting Times')\n",
        "plt.grid(True)\n",
        "plt.show()\n",
        "\n",
        "# Calculate the probability of blasting time during 14:15 to 14:30\n",
        "blasting_time_14_15_to_14_30 = blasting_data[(blasting_data['Blasting Time'] >= 14.25) & (blasting_data['Blasting Time'] <= 14.5)]\n",
        "probability_blast_14_15_to_14_30 = len(blasting_time_14_15_to_14_30) / len(blasting_data)\n",
        "\n",
        "print(f\"Probability of Blast Happening during 14:15 to 14:30: {probability_blast_14_15_to_14_30:.2%}\")\n"
      ],
      "metadata": {
        "cellView": "form",
        "id": "2RzH3PuD3-u7"
      },
      "execution_count": null,
      "outputs": []
    },
    {
      "cell_type": "code",
      "source": [
        "#@title Question 3: Classification\n",
        "\n",
        "# Separate columns for stock and flow time series data\n",
        "stock_columns = ['PM10 (µg/m3)', 'NO (µg/m3)', 'PM2.5 (µg/m3)', 'NO2 (µg/m3)']\n",
        "flow_columns = ['NOX (ppb)', 'CO (mg/m3)', 'SO2 (µg/m3)', 'NH3 (µg/m3)', 'Ozone (µg/m3)', 'Benzene (µg/m3)']\n",
        "\n",
        "# Plot stock time series data\n",
        "plt.figure(figsize=(12, 6))\n",
        "df[stock_columns].plot(marker='o', linestyle='-', ax=plt.gca())\n",
        "plt.xlabel('Date and Time')\n",
        "plt.ylabel('Concentration (µg/m3)')\n",
        "plt.title('Stock Time Series Data: Air Pollution Parameters')\n",
        "plt.grid(True)\n",
        "plt.show()\n",
        "\n",
        "# Plot flow time series data\n",
        "plt.figure(figsize=(12, 6))\n",
        "df[flow_columns].plot(marker='o', linestyle='-', ax=plt.gca())\n",
        "plt.xlabel('Date and Time')\n",
        "plt.ylabel('Concentration (ppb, mg/m3, or µg/m3)')\n",
        "plt.title('Flow Time Series Data: Air Pollution Parameters')\n",
        "plt.grid(True)\n",
        "plt.show()\n"
      ],
      "metadata": {
        "cellView": "form",
        "id": "IkDtZvAiJmgC"
      },
      "execution_count": null,
      "outputs": []
    },
    {
      "cell_type": "code",
      "source": [
        "#@title Question 3: Curve fitting\n",
        "from scipy.optimize import curve_fit\n",
        "from scipy.interpolate import UnivariateSpline\n",
        "\n",
        "\n",
        "# Select the 'PM10 (µg/m3)' column for curve fitting\n",
        "pm10_data = df['PM10 (µg/m3)']\n",
        "\n",
        "# Create a time array from 0 to the number of data points\n",
        "time_array = np.arange(len(pm10_data))\n",
        "\n",
        "# Parametric curve fitting (example: polynomial regression)\n",
        "def polynomial_fit(x, a, b, c):\n",
        "    return a * x**2 + b * x + c\n",
        "\n",
        "# Fit a quadratic polynomial to the data\n",
        "popt, _ = curve_fit(polynomial_fit, time_array, pm10_data.values.ravel())\n",
        "\n",
        "# Non-parametric curve fitting (example: spline interpolation)\n",
        "spline_fit = UnivariateSpline(time_array, pm10_data.values.ravel(), s=100)\n",
        "\n",
        "# Plot the 'PM10 (µg/m3)' data and the fitted curves\n",
        "plt.figure(figsize=(12, 6))\n",
        "plt.plot(time_array, pm10_data.values.ravel(), marker='o', linestyle='', label='PM10 (µg/m3) Data')\n",
        "plt.plot(time_array, polynomial_fit(time_array, *popt), label='Quadratic Polynomial Fit', color='orange')\n",
        "plt.plot(time_array, spline_fit(time_array), label='Spline Interpolation', color='green')\n",
        "plt.xlabel('Time')\n",
        "plt.ylabel('PM10 (µg/m3)')\n",
        "plt.title('PM10 (µg/m3) Data and Curve Fitting')\n",
        "plt.legend()\n",
        "plt.grid(True)\n",
        "plt.show()\n",
        "\n"
      ],
      "metadata": {
        "cellView": "form",
        "id": "W_IUF6TSKfFI"
      },
      "execution_count": null,
      "outputs": []
    }
  ]
}